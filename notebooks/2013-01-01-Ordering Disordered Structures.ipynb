{
  "cells": [
    {
      "cell_type": "markdown",
      "metadata": {
        "id": "qKVdKjkqCkS7"
      },
      "source": [
        "# Introduction\n",
        "\n",
        "This notebook demonstrates how to carry out an ordering of a disordered structure using pymatgen."
      ]
    },
    {
      "cell_type": "code",
      "source": [
        "import warnings\n",
        "warnings.filterwarnings('ignore')"
      ],
      "metadata": {
        "id": "SK7ndRxjDhdr"
      },
      "execution_count": 39,
      "outputs": []
    },
    {
      "cell_type": "code",
      "execution_count": 62,
      "metadata": {
        "outputId": "34ce15d8-a61d-4085-9494-c7182816f23f",
        "colab": {
          "base_uri": "https://localhost:8080/",
          "height": 845
        },
        "id": "k3_WN7sPC19Q"
      },
      "outputs": [
        {
          "output_type": "stream",
          "name": "stdout",
          "text": [
            "Full Formula (Li0.6 Ti0.2 Mn0.2 O0.6 F0.4)\n",
            "Reduced Formula: Li0.6Ti0.2Mn0.2O0.6F0.4\n",
            "abc   :   2.974374   2.974374   2.974374\n",
            "angles:  60.000000  60.000000  60.000000\n",
            "pbc   :       True       True       True\n",
            "Sites (2)\n",
            "  #  SP                             a    b    c\n",
            "---  ---------------------------  ---  ---  ---\n",
            "  0  Li+:0.6, Ti4+:0.2, Mn3+:0.2  0    0    0\n",
            "  1  O2-:0.6, F-:0.4              0.5  0.5  0.5\n"
          ]
        },
        {
          "output_type": "display_data",
          "data": {
            "text/plain": [
              "<IPython.core.display.Javascript object>"
            ],
            "application/javascript": [
              "(async (port, path, width, height, cache, element) => {\n",
              "    if (!google.colab.kernel.accessAllowed && !cache) {\n",
              "      return;\n",
              "    }\n",
              "    element.appendChild(document.createTextNode(''));\n",
              "    const url = await google.colab.kernel.proxyPort(port, {cache});\n",
              "    const iframe = document.createElement('iframe');\n",
              "    iframe.src = new URL(path, url).toString();\n",
              "    iframe.height = height;\n",
              "    iframe.width = width;\n",
              "    iframe.style.border = 0;\n",
              "    iframe.allow = [\n",
              "        'accelerometer',\n",
              "        'autoplay',\n",
              "        'camera',\n",
              "        'clipboard-read',\n",
              "        'clipboard-write',\n",
              "        'gyroscope',\n",
              "        'magnetometer',\n",
              "        'microphone',\n",
              "        'serial',\n",
              "        'usb',\n",
              "        'xr-spatial-tracking',\n",
              "    ].join('; ');\n",
              "    element.appendChild(iframe);\n",
              "  })(8884, \"/\", \"100%\", 650, false, window.element)"
            ]
          },
          "metadata": {}
        }
      ],
      "source": [
        "# Let us start by creating a disordered CuAu fcc structure.\n",
        "from pymatgen.core import Lattice, Structure\n",
        "\n",
        "# specie = {\"Cu0+\": 0.5, \"Au0+\": 0.5}\n",
        "# cuau = Structure.from_spacegroup(\"Fm-3m\", Lattice.cubic(3.677), [specie], [[0, 0, 0]])\n",
        "cuau = Structure.from_file('/content/LMTOF_order_Disorder_transform_to_primitive.cif')\n",
        "cuau.add_oxidation_state_by_element({\"Li\": +1, \"Mn\": +3,\"Ti\":+4,\"O\":-2,\"F\":-1})\n",
        "print(cuau)\n",
        "cuau"
      ]
    },
    {
      "cell_type": "markdown",
      "metadata": {
        "id": "KLK9QtKSCkTG"
      },
      "source": [
        "Note that each site is now 50% occupied by Cu and Au. Because the ordering algorithms uses an Ewald summation to rank the structures, you need to explicitly specify the oxidation state for each species, even if it is 0. Let us now perform ordering of these sites using two methods."
      ]
    },
    {
      "cell_type": "markdown",
      "metadata": {
        "id": "BFl1D1mLCkTH"
      },
      "source": [
        "## Method 1 - Using the OrderDisorderedStructureTransformation\n",
        "\n",
        "The first method is to use the OrderDisorderedStructureTransformation."
      ]
    },
    {
      "cell_type": "code",
      "source": [
        "from pymatgen.transformations.standard_transformations import SupercellTransformation\n",
        "\n",
        "\n",
        "supercell_transformation = SupercellTransformation.from_scaling_factors(1, 1, 5)\n",
        "supercell_structure = supercell_transformation.apply_transformation(cuau)\n",
        "cuau = supercell_structure"
      ],
      "metadata": {
        "id": "1xCo6UfALmZW"
      },
      "execution_count": 59,
      "outputs": []
    },
    {
      "cell_type": "code",
      "execution_count": 60,
      "metadata": {
        "colab": {
          "base_uri": "https://localhost:8080/",
          "height": 356
        },
        "id": "EsajD_DNCkTH",
        "outputId": "b4db8866-8e16-4e35-bc07-0470fffca964"
      },
      "outputs": [
        {
          "output_type": "error",
          "ename": "AttributeError",
          "evalue": "Element has no attribute oxi_state!",
          "traceback": [
            "\u001b[0;31m---------------------------------------------------------------------------\u001b[0m",
            "\u001b[0;31mAttributeError\u001b[0m                            Traceback (most recent call last)",
            "\u001b[0;32m<ipython-input-60-7b5b156009b8>\u001b[0m in \u001b[0;36m<cell line: 7>\u001b[0;34m()\u001b[0m\n\u001b[1;32m      5\u001b[0m \u001b[0mtrans\u001b[0m \u001b[0;34m=\u001b[0m \u001b[0mOrderDisorderedStructureTransformation\u001b[0m\u001b[0;34m(\u001b[0m\u001b[0;34m)\u001b[0m\u001b[0;34m\u001b[0m\u001b[0;34m\u001b[0m\u001b[0m\n\u001b[1;32m      6\u001b[0m \u001b[0;34m\u001b[0m\u001b[0m\n\u001b[0;32m----> 7\u001b[0;31m \u001b[0mss\u001b[0m \u001b[0;34m=\u001b[0m \u001b[0mtrans\u001b[0m\u001b[0;34m.\u001b[0m\u001b[0mapply_transformation\u001b[0m\u001b[0;34m(\u001b[0m\u001b[0mcuau\u001b[0m\u001b[0;34m,\u001b[0m \u001b[0mreturn_ranked_list\u001b[0m\u001b[0;34m=\u001b[0m\u001b[0;36m100\u001b[0m\u001b[0;34m)\u001b[0m\u001b[0;34m\u001b[0m\u001b[0;34m\u001b[0m\u001b[0m\n\u001b[0m\u001b[1;32m      8\u001b[0m \u001b[0;34m\u001b[0m\u001b[0m\n\u001b[1;32m      9\u001b[0m \u001b[0mprint\u001b[0m\u001b[0;34m(\u001b[0m\u001b[0mlen\u001b[0m\u001b[0;34m(\u001b[0m\u001b[0mss\u001b[0m\u001b[0;34m)\u001b[0m\u001b[0;34m)\u001b[0m\u001b[0;34m\u001b[0m\u001b[0;34m\u001b[0m\u001b[0m\n",
            "\u001b[0;32m/usr/local/lib/python3.10/dist-packages/pymatgen/transformations/standard_transformations.py\u001b[0m in \u001b[0;36mapply_transformation\u001b[0;34m(self, structure, return_ranked_list)\u001b[0m\n\u001b[1;32m    530\u001b[0m                 \u001b[0mtotal_occupancy\u001b[0m\u001b[0;34m[\u001b[0m\u001b[0mkey\u001b[0m\u001b[0;34m]\u001b[0m \u001b[0;34m=\u001b[0m \u001b[0mint\u001b[0m\u001b[0;34m(\u001b[0m\u001b[0mround\u001b[0m\u001b[0;34m(\u001b[0m\u001b[0mval\u001b[0m\u001b[0;34m)\u001b[0m\u001b[0;34m)\u001b[0m\u001b[0;34m\u001b[0m\u001b[0;34m\u001b[0m\u001b[0m\n\u001b[1;32m    531\u001b[0m             \u001b[0;31m# start with an ordered structure\u001b[0m\u001b[0;34m\u001b[0m\u001b[0;34m\u001b[0m\u001b[0m\n\u001b[0;32m--> 532\u001b[0;31m             \u001b[0minitial_sp\u001b[0m \u001b[0;34m=\u001b[0m \u001b[0mmax\u001b[0m\u001b[0;34m(\u001b[0m\u001b[0mtotal_occupancy\u001b[0m\u001b[0;34m,\u001b[0m \u001b[0mkey\u001b[0m\u001b[0;34m=\u001b[0m\u001b[0;32mlambda\u001b[0m \u001b[0mx\u001b[0m\u001b[0;34m:\u001b[0m \u001b[0mabs\u001b[0m\u001b[0;34m(\u001b[0m\u001b[0mx\u001b[0m\u001b[0;34m.\u001b[0m\u001b[0moxi_state\u001b[0m\u001b[0;34m)\u001b[0m\u001b[0;34m)\u001b[0m\u001b[0;34m\u001b[0m\u001b[0;34m\u001b[0m\u001b[0m\n\u001b[0m\u001b[1;32m    533\u001b[0m             \u001b[0;32mfor\u001b[0m \u001b[0midx\u001b[0m \u001b[0;32min\u001b[0m \u001b[0mgroup\u001b[0m\u001b[0;34m:\u001b[0m\u001b[0;34m\u001b[0m\u001b[0;34m\u001b[0m\u001b[0m\n\u001b[1;32m    534\u001b[0m                 \u001b[0mstruct\u001b[0m\u001b[0;34m[\u001b[0m\u001b[0midx\u001b[0m\u001b[0;34m]\u001b[0m \u001b[0;34m=\u001b[0m \u001b[0minitial_sp\u001b[0m\u001b[0;34m\u001b[0m\u001b[0;34m\u001b[0m\u001b[0m\n",
            "\u001b[0;32m/usr/local/lib/python3.10/dist-packages/pymatgen/transformations/standard_transformations.py\u001b[0m in \u001b[0;36m<lambda>\u001b[0;34m(x)\u001b[0m\n\u001b[1;32m    530\u001b[0m                 \u001b[0mtotal_occupancy\u001b[0m\u001b[0;34m[\u001b[0m\u001b[0mkey\u001b[0m\u001b[0;34m]\u001b[0m \u001b[0;34m=\u001b[0m \u001b[0mint\u001b[0m\u001b[0;34m(\u001b[0m\u001b[0mround\u001b[0m\u001b[0;34m(\u001b[0m\u001b[0mval\u001b[0m\u001b[0;34m)\u001b[0m\u001b[0;34m)\u001b[0m\u001b[0;34m\u001b[0m\u001b[0;34m\u001b[0m\u001b[0m\n\u001b[1;32m    531\u001b[0m             \u001b[0;31m# start with an ordered structure\u001b[0m\u001b[0;34m\u001b[0m\u001b[0;34m\u001b[0m\u001b[0m\n\u001b[0;32m--> 532\u001b[0;31m             \u001b[0minitial_sp\u001b[0m \u001b[0;34m=\u001b[0m \u001b[0mmax\u001b[0m\u001b[0;34m(\u001b[0m\u001b[0mtotal_occupancy\u001b[0m\u001b[0;34m,\u001b[0m \u001b[0mkey\u001b[0m\u001b[0;34m=\u001b[0m\u001b[0;32mlambda\u001b[0m \u001b[0mx\u001b[0m\u001b[0;34m:\u001b[0m \u001b[0mabs\u001b[0m\u001b[0;34m(\u001b[0m\u001b[0mx\u001b[0m\u001b[0;34m.\u001b[0m\u001b[0moxi_state\u001b[0m\u001b[0;34m)\u001b[0m\u001b[0;34m)\u001b[0m\u001b[0;34m\u001b[0m\u001b[0;34m\u001b[0m\u001b[0m\n\u001b[0m\u001b[1;32m    533\u001b[0m             \u001b[0;32mfor\u001b[0m \u001b[0midx\u001b[0m \u001b[0;32min\u001b[0m \u001b[0mgroup\u001b[0m\u001b[0;34m:\u001b[0m\u001b[0;34m\u001b[0m\u001b[0;34m\u001b[0m\u001b[0m\n\u001b[1;32m    534\u001b[0m                 \u001b[0mstruct\u001b[0m\u001b[0;34m[\u001b[0m\u001b[0midx\u001b[0m\u001b[0;34m]\u001b[0m \u001b[0;34m=\u001b[0m \u001b[0minitial_sp\u001b[0m\u001b[0;34m\u001b[0m\u001b[0;34m\u001b[0m\u001b[0m\n",
            "\u001b[0;32m/usr/local/lib/python3.10/dist-packages/pymatgen/core/periodic_table.py\u001b[0m in \u001b[0;36m__getattr__\u001b[0;34m(self, item)\u001b[0m\n\u001b[1;32m    246\u001b[0m                         \u001b[0;32mreturn\u001b[0m \u001b[0mfloat\u001b[0m\u001b[0;34m(\u001b[0m\u001b[0mmatch\u001b[0m\u001b[0;34m[\u001b[0m\u001b[0;36m0\u001b[0m\u001b[0;34m]\u001b[0m\u001b[0;34m)\u001b[0m\u001b[0;34m\u001b[0m\u001b[0;34m\u001b[0m\u001b[0m\n\u001b[1;32m    247\u001b[0m             \u001b[0;32mreturn\u001b[0m \u001b[0mval\u001b[0m\u001b[0;34m\u001b[0m\u001b[0;34m\u001b[0m\u001b[0m\n\u001b[0;32m--> 248\u001b[0;31m         \u001b[0;32mraise\u001b[0m \u001b[0mAttributeError\u001b[0m\u001b[0;34m(\u001b[0m\u001b[0;34mf\"Element has no attribute {item}!\"\u001b[0m\u001b[0;34m)\u001b[0m\u001b[0;34m\u001b[0m\u001b[0;34m\u001b[0m\u001b[0m\n\u001b[0m\u001b[1;32m    249\u001b[0m \u001b[0;34m\u001b[0m\u001b[0m\n\u001b[1;32m    250\u001b[0m     \u001b[0;32mdef\u001b[0m \u001b[0m__eq__\u001b[0m\u001b[0;34m(\u001b[0m\u001b[0mself\u001b[0m\u001b[0;34m,\u001b[0m \u001b[0mother\u001b[0m\u001b[0;34m:\u001b[0m \u001b[0mobject\u001b[0m\u001b[0;34m)\u001b[0m \u001b[0;34m->\u001b[0m \u001b[0mbool\u001b[0m\u001b[0;34m:\u001b[0m\u001b[0;34m\u001b[0m\u001b[0;34m\u001b[0m\u001b[0m\n",
            "\u001b[0;31mAttributeError\u001b[0m: Element has no attribute oxi_state!"
          ]
        }
      ],
      "source": [
        "from pymatgen.transformations.standard_transformations import (\n",
        "    OrderDisorderedStructureTransformation,\n",
        ")\n",
        "\n",
        "trans = OrderDisorderedStructureTransformation()\n",
        "\n",
        "ss = trans.apply_transformation(cuau, return_ranked_list=100)\n",
        "\n",
        "print(len(ss))\n",
        "\n",
        "print(ss[0])"
      ]
    },
    {
      "cell_type": "markdown",
      "metadata": {
        "id": "8bVLyjPmCkTI"
      },
      "source": [
        "Note that the OrderDisorderedTransformation (with a sufficiently large return_ranked_list parameter) returns all orderings, including duplicates without accounting for symmetry. A computed ewald energy is returned together with each structure. To eliminate duplicates, the best way is to use StructureMatcher's group_structures method, as demonstrated below."
      ]
    },
    {
      "cell_type": "code",
      "execution_count": null,
      "metadata": {
        "id": "hqS5HRYBCkTJ",
        "outputId": "5e961704-15c3-440a-faf8-633d495ec64a"
      },
      "outputs": [
        {
          "name": "stdout",
          "output_type": "stream",
          "text": [
            "1\n",
            "Full Formula (Cu2 Au2)\n",
            "Reduced Formula: CuAu\n",
            "abc   :   3.677000   3.677000   3.677000\n",
            "angles:  90.000000  90.000000  90.000000\n",
            "Sites (4)\n",
            "  #  SP      a    b    c\n",
            "---  ----  ---  ---  ---\n",
            "  0  Cu0+  0.5  0    0.5\n",
            "  1  Cu0+  0.5  0.5  0\n",
            "  2  Au0+  0    0    0\n",
            "  3  Au0+  0    0.5  0.5\n"
          ]
        }
      ],
      "source": [
        "from pymatgen.analysis.structure_matcher import StructureMatcher\n",
        "\n",
        "matcher = StructureMatcher()\n",
        "groups = matcher.group_structures([d[\"structure\"] for d in ss])\n",
        "print(len(groups))\n",
        "print(groups[0][0])"
      ]
    },
    {
      "cell_type": "markdown",
      "metadata": {
        "id": "bdjvU7I8CkTK"
      },
      "source": [
        "## Method 2 - Using the EnumerateStructureTransformation\n",
        "\n",
        "If you have enumlib installed, you can use the EnumerateStructureTransformation. This automatically takes care of symmetrically equivalent orderings and can enumerate supercells, but is much more prone to parameter sensitivity and cannot handle very large structures. The example below shows an enumerate of CuAu up to cell sizes of 4."
      ]
    },
    {
      "cell_type": "code",
      "execution_count": 43,
      "metadata": {
        "id": "gVJrBVb8CkTK"
      },
      "outputs": [],
      "source": [
        "from pymatgen.transformations.advanced_transformations import (\n",
        "    EnumerateStructureTransformation,\n",
        ")\n",
        "\n",
        "# specie = {\"Cu\": 0.5, \"Au\": 0.5}\n",
        "# cuau = Structure.from_spacegroup(\"Fm-3m\", Lattice.cubic(3.677), [specie], [[0, 0, 0]])\n",
        "\n",
        "trans = EnumerateStructureTransformation(max_cell_size=100)\n",
        "ss = trans.apply_transformation(cuau, return_ranked_list=1000)"
      ]
    },
    {
      "cell_type": "code",
      "execution_count": 46,
      "metadata": {
        "colab": {
          "base_uri": "https://localhost:8080/"
        },
        "id": "vC95hHjwCkTL",
        "outputId": "a664ee5d-51cd-4c5a-be83-8b3f309ff319"
      },
      "outputs": [
        {
          "output_type": "stream",
          "name": "stdout",
          "text": [
            "90\n",
            "cell sizes are [10, 10, 10, 10, 10, 10, 10, 10, 10, 10, 10, 10, 10, 10, 10, 10, 10, 10, 10, 10, 10, 10, 10, 10, 10, 10, 10, 10, 10, 10, 10, 10, 10, 10, 10, 10, 10, 10, 10, 10, 10, 10, 10, 10, 10, 10, 10, 10, 10, 10, 10, 10, 10, 10, 10, 10, 10, 10, 10, 10, 10, 10, 10, 10, 10, 10, 10, 10, 10, 10, 10, 10, 10, 10, 10, 10, 10, 10, 10, 10, 10, 10, 10, 10, 10, 10, 10, 10, 10, 10]\n"
          ]
        }
      ],
      "source": [
        "print(len(ss))\n",
        "print(\"cell sizes are %s\" % ([len(d[\"structure\"]) for d in ss]))"
      ]
    },
    {
      "cell_type": "code",
      "source": [
        "from google.colab import drive\n",
        "drive.mount('/content/drive')"
      ],
      "metadata": {
        "colab": {
          "base_uri": "https://localhost:8080/"
        },
        "id": "DEMqc7oZDuvh",
        "outputId": "b1bb19e6-4248-48d3-f738-ebfe9c5fe9b0"
      },
      "execution_count": 47,
      "outputs": [
        {
          "output_type": "stream",
          "name": "stdout",
          "text": [
            "Drive already mounted at /content/drive; to attempt to forcibly remount, call drive.mount(\"/content/drive\", force_remount=True).\n"
          ]
        }
      ]
    },
    {
      "cell_type": "code",
      "execution_count": 50,
      "metadata": {
        "id": "56C0zrClCkTL"
      },
      "outputs": [],
      "source": [
        "# The following two lines write all the structures to CIF files with names CuAu_0.cif, CuAu_1.cif, ...\n",
        "for i, d in enumerate(ss):\n",
        "    d[\"structure\"].to(filename=\"/content/drive/MyDrive/LMTOF_ENUMLIB/CIFS/CIF_%d.cif\" % i)"
      ]
    },
    {
      "cell_type": "code",
      "source": [
        "from pymatgen.symmetry.analyzer import SpacegroupAnalyzer\n",
        "from pymatgen.core import Structure, Lattice\n",
        "from tabulate import tabulate\n",
        "data = []\n",
        "for i in range(len(ss)):\n",
        "  structure = Structure.from_file(f\"/content/drive/MyDrive/LMTOF_ENUMLIB/CIFS/CIF_{i}.cif\")\n",
        "  sga_default = SpacegroupAnalyzer(structure)\n",
        "  sg_symbol, sg_number,sg_crystal = sga_default.get_space_group_symbol(), sga_default.get_space_group_number(),sga_default.get_crystal_system()\n",
        "# structure = Structure.from_file(\"/content/drive/MyDrive/LMTOF_ENUMLIB/CIFS/CIF_%d.cif\")\n",
        "# sga_default = SpacegroupAnalyzer(structure)\n",
        "# sg_symbol, sg_number = sga_default.get_space_group_symbol(), sga_default.get_space_group_number()\n",
        "\n",
        "  # print(f\"crystal: {sg_crystal}  spacegroup: symbol: {sg_symbol}, number: {sg_number}\")\n",
        "\n",
        "  data.append([sg_crystal,sg_symbol,sg_number])\n",
        "print(tabulate(data, headers=[\"crystal\",\"spacegroup\",\"number\"]))"
      ],
      "metadata": {
        "colab": {
          "base_uri": "https://localhost:8080/"
        },
        "id": "MFSNsmyBHf5T",
        "outputId": "a3eb076b-0116-4a06-deaf-1976af518628"
      },
      "execution_count": 57,
      "outputs": [
        {
          "output_type": "stream",
          "name": "stdout",
          "text": [
            "crystal       spacegroup      number\n",
            "------------  ------------  --------\n",
            "monoclinic    Cm                   8\n",
            "orthorhombic  Imm2                44\n",
            "tetragonal    I4mm               107\n",
            "trigonal      R3m                160\n",
            "tetragonal    I4mm               107\n",
            "tetragonal    I4mm               107\n",
            "monoclinic    Cm                   8\n",
            "trigonal      R3m                160\n",
            "orthorhombic  Imm2                44\n",
            "orthorhombic  Imm2                44\n",
            "trigonal      R3m                160\n",
            "tetragonal    I4mm               107\n",
            "monoclinic    Cm                   8\n",
            "monoclinic    Cm                   8\n",
            "monoclinic    Cm                   8\n",
            "orthorhombic  Imm2                44\n",
            "tetragonal    I4mm               107\n",
            "monoclinic    Cm                   8\n",
            "monoclinic    Cm                   8\n",
            "tetragonal    I4mm               107\n",
            "orthorhombic  Imm2                44\n",
            "monoclinic    Cm                   8\n",
            "tetragonal    I4mm               107\n",
            "monoclinic    Cm                   8\n",
            "trigonal      R3m                160\n",
            "monoclinic    Cm                   8\n",
            "orthorhombic  Imm2                44\n",
            "orthorhombic  Imm2                44\n",
            "trigonal      R3m                160\n",
            "monoclinic    Cm                   8\n",
            "orthorhombic  Imm2                44\n",
            "monoclinic    Cm                   8\n",
            "trigonal      R3m                160\n",
            "monoclinic    Cm                   8\n",
            "trigonal      R3m                160\n",
            "trigonal      R3m                160\n",
            "orthorhombic  Imm2                44\n",
            "orthorhombic  Imm2                44\n",
            "trigonal      R3m                160\n",
            "monoclinic    Cm                   8\n",
            "trigonal      R3m                160\n",
            "orthorhombic  Imm2                44\n",
            "tetragonal    I4mm               107\n",
            "monoclinic    Cm                   8\n",
            "orthorhombic  Imm2                44\n",
            "tetragonal    I4mm               107\n",
            "tetragonal    I4mm               107\n",
            "monoclinic    Cm                   8\n",
            "orthorhombic  Imm2                44\n",
            "tetragonal    I4mm               107\n",
            "trigonal      R3m                160\n",
            "tetragonal    I4mm               107\n",
            "orthorhombic  Imm2                44\n",
            "trigonal      R3m                160\n",
            "monoclinic    Cm                   8\n",
            "trigonal      R3m                160\n",
            "tetragonal    I4mm               107\n",
            "trigonal      R3m                160\n",
            "monoclinic    Cm                   8\n",
            "monoclinic    Cm                   8\n",
            "monoclinic    Cm                   8\n",
            "trigonal      R3m                160\n",
            "monoclinic    Cm                   8\n",
            "trigonal      R3m                160\n",
            "trigonal      R3m                160\n",
            "tetragonal    I4mm               107\n",
            "orthorhombic  Imm2                44\n",
            "orthorhombic  Imm2                44\n",
            "orthorhombic  Imm2                44\n",
            "tetragonal    I4mm               107\n",
            "trigonal      R3m                160\n",
            "tetragonal    I4mm               107\n",
            "orthorhombic  Imm2                44\n",
            "tetragonal    I4mm               107\n",
            "monoclinic    Cm                   8\n",
            "monoclinic    Cm                   8\n",
            "trigonal      R3m                160\n",
            "monoclinic    Cm                   8\n",
            "monoclinic    Cm                   8\n",
            "orthorhombic  Imm2                44\n",
            "orthorhombic  Imm2                44\n",
            "tetragonal    I4mm               107\n",
            "monoclinic    Cm                   8\n",
            "trigonal      R3m                160\n",
            "monoclinic    Cm                   8\n",
            "tetragonal    I4mm               107\n",
            "tetragonal    I4mm               107\n",
            "monoclinic    Cm                   8\n",
            "monoclinic    Cm                   8\n",
            "monoclinic    Cm                   8\n"
          ]
        }
      ]
    },
    {
      "cell_type": "markdown",
      "metadata": {
        "id": "Iwpx3mb7CkTM"
      },
      "source": [
        "Note that structures with cell sizes ranging from 1-3x the unit cell size is generated."
      ]
    },
    {
      "cell_type": "markdown",
      "metadata": {
        "id": "qmNVtxt1CkTM"
      },
      "source": [
        "## Conclusion\n",
        "\n",
        "This notebook illustrates two basic ordering/enumeration approaches. In general, OrderDisorderedTransformation works better for large cells and is useful if you need just any quick plausible ordering. EnumerateStructureTransformation is more rigorous, but is prone to sensitivity errors and may require fiddling with various parameters."
      ]
    }
  ],
  "metadata": {
    "kernelspec": {
      "display_name": "Python 3 (ipykernel)",
      "language": "python",
      "name": "python3"
    },
    "language_info": {
      "codemirror_mode": {
        "name": "ipython",
        "version": 3
      },
      "file_extension": ".py",
      "mimetype": "text/x-python",
      "name": "python",
      "nbconvert_exporter": "python",
      "pygments_lexer": "ipython3",
      "version": "3.11.8"
    },
    "colab": {
      "provenance": []
    }
  },
  "nbformat": 4,
  "nbformat_minor": 0
}