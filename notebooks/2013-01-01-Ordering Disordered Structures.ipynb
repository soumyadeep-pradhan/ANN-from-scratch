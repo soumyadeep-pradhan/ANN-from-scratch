{
  "cells": [
    {
      "cell_type": "markdown",
      "metadata": {
        "id": "zoAybLUx_vgh"
      },
      "source": [
        "# Introduction\n",
        "\n",
        "This notebook demonstrates how to carry out an ordering of a disordered structure using pymatgen."
      ]
    },
    {
      "cell_type": "code",
      "execution_count": null,
      "metadata": {
        "id": "JSbWl2I8_vgt"
      },
      "outputs": [],
      "source": [
        "# Uncomment the subsequent lines in this cell to install dependencies for Google Colab.\n",
        "# !pip install pymatgen==2022.7.19"
      ]
    },
    {
      "cell_type": "code",
      "source": [
        "!pip install pymatgen\n",
        "!pip install crystal_toolkit"
      ],
      "metadata": {
        "collapsed": true,
        "colab": {
          "base_uri": "https://localhost:8080/"
        },
        "id": "zk7AQcdMAASv",
        "outputId": "1b61f401-2b3f-410c-b0ef-af737e02a510"
      },
      "execution_count": 24,
      "outputs": [
        {
          "output_type": "stream",
          "name": "stdout",
          "text": [
            "Requirement already satisfied: pymatgen in /usr/local/lib/python3.10/site-packages (2024.10.29)\n",
            "Requirement already satisfied: joblib>=1 in /usr/local/lib/python3.10/site-packages (from pymatgen) (1.4.2)\n",
            "Requirement already satisfied: matplotlib>=3.8 in /usr/local/lib/python3.10/site-packages (from pymatgen) (3.9.2)\n",
            "Requirement already satisfied: monty>=2024.7.29 in /usr/local/lib/python3.10/site-packages (from pymatgen) (2024.10.21)\n",
            "Requirement already satisfied: networkx>=3 in /usr/local/lib/python3.10/site-packages (from pymatgen) (3.4.2)\n",
            "Requirement already satisfied: palettable>=3.3.3 in /usr/local/lib/python3.10/site-packages (from pymatgen) (3.3.3)\n",
            "Requirement already satisfied: pandas>=2 in /usr/local/lib/python3.10/site-packages (from pymatgen) (2.2.3)\n",
            "Requirement already satisfied: plotly>=4.5.0 in /usr/local/lib/python3.10/site-packages (from pymatgen) (5.24.1)\n",
            "Requirement already satisfied: pybtex>=0.24.0 in /usr/local/lib/python3.10/site-packages (from pymatgen) (0.24.0)\n",
            "Requirement already satisfied: requests>=2.32 in /usr/local/lib/python3.10/site-packages (from pymatgen) (2.32.3)\n",
            "Requirement already satisfied: ruamel.yaml>=0.17.0 in /usr/local/lib/python3.10/site-packages (from pymatgen) (0.18.5)\n",
            "Requirement already satisfied: scipy>=1.13.0 in /usr/local/lib/python3.10/site-packages (from pymatgen) (1.14.1)\n",
            "Requirement already satisfied: spglib>=2.5.0 in /usr/local/lib/python3.10/site-packages (from pymatgen) (2.5.0)\n",
            "Requirement already satisfied: sympy>=1.2 in /usr/local/lib/python3.10/site-packages (from pymatgen) (1.13.3)\n",
            "Requirement already satisfied: tabulate>=0.9 in /usr/local/lib/python3.10/site-packages (from pymatgen) (0.9.0)\n",
            "Requirement already satisfied: tqdm>=4.60 in /usr/local/lib/python3.10/site-packages (from pymatgen) (4.66.1)\n",
            "Requirement already satisfied: uncertainties>=3.1.4 in /usr/local/lib/python3.10/site-packages (from pymatgen) (3.2.2)\n",
            "Requirement already satisfied: numpy<3,>=1.25.0 in /usr/local/lib/python3.10/site-packages (from pymatgen) (1.26.4)\n",
            "Requirement already satisfied: contourpy>=1.0.1 in /usr/local/lib/python3.10/site-packages (from matplotlib>=3.8->pymatgen) (1.3.0)\n",
            "Requirement already satisfied: cycler>=0.10 in /usr/local/lib/python3.10/site-packages (from matplotlib>=3.8->pymatgen) (0.12.1)\n",
            "Requirement already satisfied: fonttools>=4.22.0 in /usr/local/lib/python3.10/site-packages (from matplotlib>=3.8->pymatgen) (4.54.1)\n",
            "Requirement already satisfied: kiwisolver>=1.3.1 in /usr/local/lib/python3.10/site-packages (from matplotlib>=3.8->pymatgen) (1.4.7)\n",
            "Requirement already satisfied: packaging>=20.0 in /usr/local/lib/python3.10/site-packages (from matplotlib>=3.8->pymatgen) (23.2)\n",
            "Requirement already satisfied: pillow>=8 in /usr/local/lib/python3.10/site-packages (from matplotlib>=3.8->pymatgen) (11.0.0)\n",
            "Requirement already satisfied: pyparsing>=2.3.1 in /usr/local/lib/python3.10/site-packages (from matplotlib>=3.8->pymatgen) (3.2.0)\n",
            "Requirement already satisfied: python-dateutil>=2.7 in /usr/local/lib/python3.10/site-packages (from matplotlib>=3.8->pymatgen) (2.9.0.post0)\n",
            "Requirement already satisfied: pytz>=2020.1 in /usr/local/lib/python3.10/site-packages (from pandas>=2->pymatgen) (2024.2)\n",
            "Requirement already satisfied: tzdata>=2022.7 in /usr/local/lib/python3.10/site-packages (from pandas>=2->pymatgen) (2024.2)\n",
            "Requirement already satisfied: tenacity>=6.2.0 in /usr/local/lib/python3.10/site-packages (from plotly>=4.5.0->pymatgen) (9.0.0)\n",
            "Requirement already satisfied: PyYAML>=3.01 in /usr/local/lib/python3.10/site-packages (from pybtex>=0.24.0->pymatgen) (6.0.2)\n",
            "Requirement already satisfied: latexcodec>=1.0.4 in /usr/local/lib/python3.10/site-packages (from pybtex>=0.24.0->pymatgen) (3.0.0)\n",
            "Requirement already satisfied: six in /usr/local/lib/python3.10/site-packages (from pybtex>=0.24.0->pymatgen) (1.16.0)\n",
            "Requirement already satisfied: charset-normalizer<4,>=2 in /usr/local/lib/python3.10/site-packages (from requests>=2.32->pymatgen) (3.3.2)\n",
            "Requirement already satisfied: idna<4,>=2.5 in /usr/local/lib/python3.10/site-packages (from requests>=2.32->pymatgen) (3.6)\n",
            "Requirement already satisfied: urllib3<3,>=1.21.1 in /usr/local/lib/python3.10/site-packages (from requests>=2.32->pymatgen) (2.1.0)\n",
            "Requirement already satisfied: certifi>=2017.4.17 in /usr/local/lib/python3.10/site-packages (from requests>=2.32->pymatgen) (2024.8.30)\n",
            "Requirement already satisfied: ruamel.yaml.clib>=0.2.7 in /usr/local/lib/python3.10/site-packages (from ruamel.yaml>=0.17.0->pymatgen) (0.2.7)\n",
            "Requirement already satisfied: mpmath<1.4,>=1.1.0 in /usr/local/lib/python3.10/site-packages (from sympy>=1.2->pymatgen) (1.3.0)\n",
            "Requirement already satisfied: crystal_toolkit in /usr/local/lib/python3.10/site-packages (2024.10.22)\n",
            "Requirement already satisfied: crystaltoolkit-extension in /usr/local/lib/python3.10/site-packages (from crystal_toolkit) (0.6.0)\n",
            "Requirement already satisfied: dash-mp-components>=0.4.38 in /usr/local/lib/python3.10/site-packages (from crystal_toolkit) (0.4.47)\n",
            "Requirement already satisfied: dash>=2.11.0 in /usr/local/lib/python3.10/site-packages (from crystal_toolkit) (2.18.2)\n",
            "Requirement already satisfied: flask-caching in /usr/local/lib/python3.10/site-packages (from crystal_toolkit) (2.3.0)\n",
            "Requirement already satisfied: frozendict in /usr/local/lib/python3.10/site-packages (from crystal_toolkit) (2.4.6)\n",
            "Requirement already satisfied: mp-api in /usr/local/lib/python3.10/site-packages (from crystal_toolkit) (0.42.2)\n",
            "Requirement already satisfied: pydantic-settings in /usr/local/lib/python3.10/site-packages (from crystal_toolkit) (2.6.1)\n",
            "Requirement already satisfied: pymatgen>=2024.10.22 in /usr/local/lib/python3.10/site-packages (from crystal_toolkit) (2024.10.29)\n",
            "Requirement already satisfied: scikit-image in /usr/local/lib/python3.10/site-packages (from crystal_toolkit) (0.24.0)\n",
            "Requirement already satisfied: scikit-learn in /usr/local/lib/python3.10/site-packages (from crystal_toolkit) (1.5.2)\n",
            "Requirement already satisfied: shapely in /usr/local/lib/python3.10/site-packages (from crystal_toolkit) (2.0.6)\n",
            "Requirement already satisfied: webcolors in /usr/local/lib/python3.10/site-packages (from crystal_toolkit) (24.8.0)\n",
            "Requirement already satisfied: Flask<3.1,>=1.0.4 in /usr/local/lib/python3.10/site-packages (from dash>=2.11.0->crystal_toolkit) (3.0.3)\n",
            "Requirement already satisfied: Werkzeug<3.1 in /usr/local/lib/python3.10/site-packages (from dash>=2.11.0->crystal_toolkit) (3.0.6)\n",
            "Requirement already satisfied: plotly>=5.0.0 in /usr/local/lib/python3.10/site-packages (from dash>=2.11.0->crystal_toolkit) (5.24.1)\n",
            "Requirement already satisfied: dash-html-components==2.0.0 in /usr/local/lib/python3.10/site-packages (from dash>=2.11.0->crystal_toolkit) (2.0.0)\n",
            "Requirement already satisfied: dash-core-components==2.0.0 in /usr/local/lib/python3.10/site-packages (from dash>=2.11.0->crystal_toolkit) (2.0.0)\n",
            "Requirement already satisfied: dash-table==5.0.0 in /usr/local/lib/python3.10/site-packages (from dash>=2.11.0->crystal_toolkit) (5.0.0)\n",
            "Requirement already satisfied: importlib-metadata in /usr/local/lib/python3.10/site-packages (from dash>=2.11.0->crystal_toolkit) (8.5.0)\n",
            "Requirement already satisfied: typing-extensions>=4.1.1 in /usr/local/lib/python3.10/site-packages (from dash>=2.11.0->crystal_toolkit) (4.12.2)\n",
            "Requirement already satisfied: requests in /usr/local/lib/python3.10/site-packages (from dash>=2.11.0->crystal_toolkit) (2.32.3)\n",
            "Requirement already satisfied: retrying in /usr/local/lib/python3.10/site-packages (from dash>=2.11.0->crystal_toolkit) (1.3.4)\n",
            "Requirement already satisfied: nest-asyncio in /usr/local/lib/python3.10/site-packages (from dash>=2.11.0->crystal_toolkit) (1.6.0)\n",
            "Requirement already satisfied: setuptools in /usr/local/lib/python3.10/site-packages (from dash>=2.11.0->crystal_toolkit) (68.2.2)\n",
            "Requirement already satisfied: joblib>=1 in /usr/local/lib/python3.10/site-packages (from pymatgen>=2024.10.22->crystal_toolkit) (1.4.2)\n",
            "Requirement already satisfied: matplotlib>=3.8 in /usr/local/lib/python3.10/site-packages (from pymatgen>=2024.10.22->crystal_toolkit) (3.9.2)\n",
            "Requirement already satisfied: monty>=2024.7.29 in /usr/local/lib/python3.10/site-packages (from pymatgen>=2024.10.22->crystal_toolkit) (2024.10.21)\n",
            "Requirement already satisfied: networkx>=3 in /usr/local/lib/python3.10/site-packages (from pymatgen>=2024.10.22->crystal_toolkit) (3.4.2)\n",
            "Requirement already satisfied: palettable>=3.3.3 in /usr/local/lib/python3.10/site-packages (from pymatgen>=2024.10.22->crystal_toolkit) (3.3.3)\n",
            "Requirement already satisfied: pandas>=2 in /usr/local/lib/python3.10/site-packages (from pymatgen>=2024.10.22->crystal_toolkit) (2.2.3)\n",
            "Requirement already satisfied: pybtex>=0.24.0 in /usr/local/lib/python3.10/site-packages (from pymatgen>=2024.10.22->crystal_toolkit) (0.24.0)\n",
            "Requirement already satisfied: ruamel.yaml>=0.17.0 in /usr/local/lib/python3.10/site-packages (from pymatgen>=2024.10.22->crystal_toolkit) (0.18.5)\n",
            "Requirement already satisfied: scipy>=1.13.0 in /usr/local/lib/python3.10/site-packages (from pymatgen>=2024.10.22->crystal_toolkit) (1.14.1)\n",
            "Requirement already satisfied: spglib>=2.5.0 in /usr/local/lib/python3.10/site-packages (from pymatgen>=2024.10.22->crystal_toolkit) (2.5.0)\n",
            "Requirement already satisfied: sympy>=1.2 in /usr/local/lib/python3.10/site-packages (from pymatgen>=2024.10.22->crystal_toolkit) (1.13.3)\n",
            "Requirement already satisfied: tabulate>=0.9 in /usr/local/lib/python3.10/site-packages (from pymatgen>=2024.10.22->crystal_toolkit) (0.9.0)\n",
            "Requirement already satisfied: tqdm>=4.60 in /usr/local/lib/python3.10/site-packages (from pymatgen>=2024.10.22->crystal_toolkit) (4.66.1)\n",
            "Requirement already satisfied: uncertainties>=3.1.4 in /usr/local/lib/python3.10/site-packages (from pymatgen>=2024.10.22->crystal_toolkit) (3.2.2)\n",
            "Requirement already satisfied: numpy<3,>=1.25.0 in /usr/local/lib/python3.10/site-packages (from pymatgen>=2024.10.22->crystal_toolkit) (1.26.4)\n",
            "Requirement already satisfied: jupyterlab==3.*,>=3.0.0rc13 in /usr/local/lib/python3.10/site-packages (from crystaltoolkit-extension->crystal_toolkit) (3.6.8)\n",
            "Requirement already satisfied: ipython in /usr/local/lib/python3.10/site-packages (from jupyterlab==3.*,>=3.0.0rc13->crystaltoolkit-extension->crystal_toolkit) (8.29.0)\n",
            "Requirement already satisfied: packaging in /usr/local/lib/python3.10/site-packages (from jupyterlab==3.*,>=3.0.0rc13->crystaltoolkit-extension->crystal_toolkit) (23.2)\n",
            "Requirement already satisfied: tornado>=6.1.0 in /usr/local/lib/python3.10/site-packages (from jupyterlab==3.*,>=3.0.0rc13->crystaltoolkit-extension->crystal_toolkit) (6.4.1)\n",
            "Requirement already satisfied: jupyter-core in /usr/local/lib/python3.10/site-packages (from jupyterlab==3.*,>=3.0.0rc13->crystaltoolkit-extension->crystal_toolkit) (5.7.2)\n",
            "Requirement already satisfied: jupyterlab-server~=2.19 in /usr/local/lib/python3.10/site-packages (from jupyterlab==3.*,>=3.0.0rc13->crystaltoolkit-extension->crystal_toolkit) (2.27.3)\n",
            "Requirement already satisfied: jupyter-server<3,>=1.16.0 in /usr/local/lib/python3.10/site-packages (from jupyterlab==3.*,>=3.0.0rc13->crystaltoolkit-extension->crystal_toolkit) (2.14.2)\n",
            "Requirement already satisfied: jupyter-ydoc~=0.2.4 in /usr/local/lib/python3.10/site-packages (from jupyterlab==3.*,>=3.0.0rc13->crystaltoolkit-extension->crystal_toolkit) (0.2.5)\n",
            "Requirement already satisfied: jupyter-server-ydoc~=0.8.0 in /usr/local/lib/python3.10/site-packages (from jupyterlab==3.*,>=3.0.0rc13->crystaltoolkit-extension->crystal_toolkit) (0.8.0)\n",
            "Requirement already satisfied: nbclassic in /usr/local/lib/python3.10/site-packages (from jupyterlab==3.*,>=3.0.0rc13->crystaltoolkit-extension->crystal_toolkit) (1.1.0)\n",
            "Requirement already satisfied: notebook<7 in /usr/local/lib/python3.10/site-packages (from jupyterlab==3.*,>=3.0.0rc13->crystaltoolkit-extension->crystal_toolkit) (6.5.7)\n",
            "Requirement already satisfied: jinja2>=2.1 in /usr/local/lib/python3.10/site-packages (from jupyterlab==3.*,>=3.0.0rc13->crystaltoolkit-extension->crystal_toolkit) (3.1.4)\n",
            "Requirement already satisfied: tomli in /usr/local/lib/python3.10/site-packages (from jupyterlab==3.*,>=3.0.0rc13->crystaltoolkit-extension->crystal_toolkit) (2.0.2)\n",
            "Requirement already satisfied: cachelib<0.10.0,>=0.9.0 in /usr/local/lib/python3.10/site-packages (from flask-caching->crystal_toolkit) (0.9.0)\n",
            "Requirement already satisfied: msgpack in /usr/local/lib/python3.10/site-packages (from mp-api->crystal_toolkit) (1.1.0)\n",
            "Requirement already satisfied: maggma>=0.57.1 in /usr/local/lib/python3.10/site-packages (from mp-api->crystal_toolkit) (0.70.0)\n",
            "Requirement already satisfied: emmet-core>=0.78.0rc3 in /usr/local/lib/python3.10/site-packages (from mp-api->crystal_toolkit) (0.84.3rc3)\n",
            "Requirement already satisfied: smart-open in /usr/local/lib/python3.10/site-packages (from mp-api->crystal_toolkit) (7.0.5)\n",
            "Requirement already satisfied: pydantic>=2.7.0 in /usr/local/lib/python3.10/site-packages (from pydantic-settings->crystal_toolkit) (2.9.2)\n",
            "Requirement already satisfied: python-dotenv>=0.21.0 in /usr/local/lib/python3.10/site-packages (from pydantic-settings->crystal_toolkit) (1.0.1)\n",
            "Requirement already satisfied: pillow>=9.1 in /usr/local/lib/python3.10/site-packages (from scikit-image->crystal_toolkit) (11.0.0)\n",
            "Requirement already satisfied: imageio>=2.33 in /usr/local/lib/python3.10/site-packages (from scikit-image->crystal_toolkit) (2.36.0)\n",
            "Requirement already satisfied: tifffile>=2022.8.12 in /usr/local/lib/python3.10/site-packages (from scikit-image->crystal_toolkit) (2024.9.20)\n",
            "Requirement already satisfied: lazy-loader>=0.4 in /usr/local/lib/python3.10/site-packages (from scikit-image->crystal_toolkit) (0.4)\n",
            "Requirement already satisfied: threadpoolctl>=3.1.0 in /usr/local/lib/python3.10/site-packages (from scikit-learn->crystal_toolkit) (3.5.0)\n",
            "Requirement already satisfied: itsdangerous>=2.1.2 in /usr/local/lib/python3.10/site-packages (from Flask<3.1,>=1.0.4->dash>=2.11.0->crystal_toolkit) (2.2.0)\n",
            "Requirement already satisfied: click>=8.1.3 in /usr/local/lib/python3.10/site-packages (from Flask<3.1,>=1.0.4->dash>=2.11.0->crystal_toolkit) (8.1.7)\n",
            "Requirement already satisfied: blinker>=1.6.2 in /usr/local/lib/python3.10/site-packages (from Flask<3.1,>=1.0.4->dash>=2.11.0->crystal_toolkit) (1.9.0)\n",
            "Requirement already satisfied: pymongo>=4.2.0 in /usr/local/lib/python3.10/site-packages (from maggma>=0.57.1->mp-api->crystal_toolkit) (4.10.1)\n",
            "Requirement already satisfied: mongomock>=3.10.0 in /usr/local/lib/python3.10/site-packages (from maggma>=0.57.1->mp-api->crystal_toolkit) (4.2.0.post1)\n",
            "Requirement already satisfied: pydash>=4.1.0 in /usr/local/lib/python3.10/site-packages (from maggma>=0.57.1->mp-api->crystal_toolkit) (8.0.4)\n",
            "Requirement already satisfied: jsonschema>=3.1.1 in /usr/local/lib/python3.10/site-packages (from maggma>=0.57.1->mp-api->crystal_toolkit) (4.23.0)\n",
            "Requirement already satisfied: jsonlines>=4.0.0 in /usr/local/lib/python3.10/site-packages (from maggma>=0.57.1->mp-api->crystal_toolkit) (4.0.0)\n",
            "Requirement already satisfied: aioitertools>=0.5.1 in /usr/local/lib/python3.10/site-packages (from maggma>=0.57.1->mp-api->crystal_toolkit) (0.12.0)\n",
            "Requirement already satisfied: pyzmq>=25.1.1 in /usr/local/lib/python3.10/site-packages (from maggma>=0.57.1->mp-api->crystal_toolkit) (26.2.0)\n",
            "Requirement already satisfied: dnspython>=1.16.0 in /usr/local/lib/python3.10/site-packages (from maggma>=0.57.1->mp-api->crystal_toolkit) (2.7.0)\n",
            "Requirement already satisfied: sshtunnel>=0.1.5 in /usr/local/lib/python3.10/site-packages (from maggma>=0.57.1->mp-api->crystal_toolkit) (0.4.0)\n",
            "Requirement already satisfied: orjson>=3.9.0 in /usr/local/lib/python3.10/site-packages (from maggma>=0.57.1->mp-api->crystal_toolkit) (3.10.11)\n",
            "Requirement already satisfied: boto3>=1.20.41 in /usr/local/lib/python3.10/site-packages (from maggma>=0.57.1->mp-api->crystal_toolkit) (1.35.57)\n",
            "Requirement already satisfied: python-dateutil>=2.8.2 in /usr/local/lib/python3.10/site-packages (from maggma>=0.57.1->mp-api->crystal_toolkit) (2.9.0.post0)\n",
            "Requirement already satisfied: contourpy>=1.0.1 in /usr/local/lib/python3.10/site-packages (from matplotlib>=3.8->pymatgen>=2024.10.22->crystal_toolkit) (1.3.0)\n",
            "Requirement already satisfied: cycler>=0.10 in /usr/local/lib/python3.10/site-packages (from matplotlib>=3.8->pymatgen>=2024.10.22->crystal_toolkit) (0.12.1)\n",
            "Requirement already satisfied: fonttools>=4.22.0 in /usr/local/lib/python3.10/site-packages (from matplotlib>=3.8->pymatgen>=2024.10.22->crystal_toolkit) (4.54.1)\n",
            "Requirement already satisfied: kiwisolver>=1.3.1 in /usr/local/lib/python3.10/site-packages (from matplotlib>=3.8->pymatgen>=2024.10.22->crystal_toolkit) (1.4.7)\n",
            "Requirement already satisfied: pyparsing>=2.3.1 in /usr/local/lib/python3.10/site-packages (from matplotlib>=3.8->pymatgen>=2024.10.22->crystal_toolkit) (3.2.0)\n",
            "Requirement already satisfied: pytz>=2020.1 in /usr/local/lib/python3.10/site-packages (from pandas>=2->pymatgen>=2024.10.22->crystal_toolkit) (2024.2)\n",
            "Requirement already satisfied: tzdata>=2022.7 in /usr/local/lib/python3.10/site-packages (from pandas>=2->pymatgen>=2024.10.22->crystal_toolkit) (2024.2)\n",
            "Requirement already satisfied: tenacity>=6.2.0 in /usr/local/lib/python3.10/site-packages (from plotly>=5.0.0->dash>=2.11.0->crystal_toolkit) (9.0.0)\n",
            "Requirement already satisfied: PyYAML>=3.01 in /usr/local/lib/python3.10/site-packages (from pybtex>=0.24.0->pymatgen>=2024.10.22->crystal_toolkit) (6.0.2)\n",
            "Requirement already satisfied: latexcodec>=1.0.4 in /usr/local/lib/python3.10/site-packages (from pybtex>=0.24.0->pymatgen>=2024.10.22->crystal_toolkit) (3.0.0)\n",
            "Requirement already satisfied: six in /usr/local/lib/python3.10/site-packages (from pybtex>=0.24.0->pymatgen>=2024.10.22->crystal_toolkit) (1.16.0)\n",
            "Requirement already satisfied: annotated-types>=0.6.0 in /usr/local/lib/python3.10/site-packages (from pydantic>=2.7.0->pydantic-settings->crystal_toolkit) (0.7.0)\n",
            "Requirement already satisfied: pydantic-core==2.23.4 in /usr/local/lib/python3.10/site-packages (from pydantic>=2.7.0->pydantic-settings->crystal_toolkit) (2.23.4)\n",
            "Requirement already satisfied: charset-normalizer<4,>=2 in /usr/local/lib/python3.10/site-packages (from requests->dash>=2.11.0->crystal_toolkit) (3.3.2)\n",
            "Requirement already satisfied: idna<4,>=2.5 in /usr/local/lib/python3.10/site-packages (from requests->dash>=2.11.0->crystal_toolkit) (3.6)\n",
            "Requirement already satisfied: urllib3<3,>=1.21.1 in /usr/local/lib/python3.10/site-packages (from requests->dash>=2.11.0->crystal_toolkit) (2.1.0)\n",
            "Requirement already satisfied: certifi>=2017.4.17 in /usr/local/lib/python3.10/site-packages (from requests->dash>=2.11.0->crystal_toolkit) (2024.8.30)\n",
            "Requirement already satisfied: ruamel.yaml.clib>=0.2.7 in /usr/local/lib/python3.10/site-packages (from ruamel.yaml>=0.17.0->pymatgen>=2024.10.22->crystal_toolkit) (0.2.7)\n",
            "Requirement already satisfied: mpmath<1.4,>=1.1.0 in /usr/local/lib/python3.10/site-packages (from sympy>=1.2->pymatgen>=2024.10.22->crystal_toolkit) (1.3.0)\n",
            "Requirement already satisfied: MarkupSafe>=2.1.1 in /usr/local/lib/python3.10/site-packages (from Werkzeug<3.1->dash>=2.11.0->crystal_toolkit) (3.0.2)\n",
            "Requirement already satisfied: zipp>=3.20 in /usr/local/lib/python3.10/site-packages (from importlib-metadata->dash>=2.11.0->crystal_toolkit) (3.20.2)\n",
            "Requirement already satisfied: wrapt in /usr/local/lib/python3.10/site-packages (from smart-open->mp-api->crystal_toolkit) (1.16.0)\n",
            "Requirement already satisfied: botocore<1.36.0,>=1.35.57 in /usr/local/lib/python3.10/site-packages (from boto3>=1.20.41->maggma>=0.57.1->mp-api->crystal_toolkit) (1.35.57)\n",
            "Requirement already satisfied: jmespath<2.0.0,>=0.7.1 in /usr/local/lib/python3.10/site-packages (from boto3>=1.20.41->maggma>=0.57.1->mp-api->crystal_toolkit) (1.0.1)\n",
            "Requirement already satisfied: s3transfer<0.11.0,>=0.10.0 in /usr/local/lib/python3.10/site-packages (from boto3>=1.20.41->maggma>=0.57.1->mp-api->crystal_toolkit) (0.10.3)\n",
            "Requirement already satisfied: attrs>=19.2.0 in /usr/local/lib/python3.10/site-packages (from jsonlines>=4.0.0->maggma>=0.57.1->mp-api->crystal_toolkit) (24.2.0)\n",
            "Requirement already satisfied: jsonschema-specifications>=2023.03.6 in /usr/local/lib/python3.10/site-packages (from jsonschema>=3.1.1->maggma>=0.57.1->mp-api->crystal_toolkit) (2024.10.1)\n",
            "Requirement already satisfied: referencing>=0.28.4 in /usr/local/lib/python3.10/site-packages (from jsonschema>=3.1.1->maggma>=0.57.1->mp-api->crystal_toolkit) (0.35.1)\n",
            "Requirement already satisfied: rpds-py>=0.7.1 in /usr/local/lib/python3.10/site-packages (from jsonschema>=3.1.1->maggma>=0.57.1->mp-api->crystal_toolkit) (0.21.0)\n",
            "Requirement already satisfied: anyio>=3.1.0 in /usr/local/lib/python3.10/site-packages (from jupyter-server<3,>=1.16.0->jupyterlab==3.*,>=3.0.0rc13->crystaltoolkit-extension->crystal_toolkit) (4.6.2.post1)\n",
            "Requirement already satisfied: argon2-cffi>=21.1 in /usr/local/lib/python3.10/site-packages (from jupyter-server<3,>=1.16.0->jupyterlab==3.*,>=3.0.0rc13->crystaltoolkit-extension->crystal_toolkit) (23.1.0)\n",
            "Requirement already satisfied: jupyter-client>=7.4.4 in /usr/local/lib/python3.10/site-packages (from jupyter-server<3,>=1.16.0->jupyterlab==3.*,>=3.0.0rc13->crystaltoolkit-extension->crystal_toolkit) (7.4.9)\n",
            "Requirement already satisfied: jupyter-events>=0.9.0 in /usr/local/lib/python3.10/site-packages (from jupyter-server<3,>=1.16.0->jupyterlab==3.*,>=3.0.0rc13->crystaltoolkit-extension->crystal_toolkit) (0.10.0)\n",
            "Requirement already satisfied: jupyter-server-terminals>=0.4.4 in /usr/local/lib/python3.10/site-packages (from jupyter-server<3,>=1.16.0->jupyterlab==3.*,>=3.0.0rc13->crystaltoolkit-extension->crystal_toolkit) (0.5.3)\n",
            "Requirement already satisfied: nbconvert>=6.4.4 in /usr/local/lib/python3.10/site-packages (from jupyter-server<3,>=1.16.0->jupyterlab==3.*,>=3.0.0rc13->crystaltoolkit-extension->crystal_toolkit) (7.16.4)\n",
            "Requirement already satisfied: nbformat>=5.3.0 in /usr/local/lib/python3.10/site-packages (from jupyter-server<3,>=1.16.0->jupyterlab==3.*,>=3.0.0rc13->crystaltoolkit-extension->crystal_toolkit) (5.10.4)\n",
            "Requirement already satisfied: overrides>=5.0 in /usr/local/lib/python3.10/site-packages (from jupyter-server<3,>=1.16.0->jupyterlab==3.*,>=3.0.0rc13->crystaltoolkit-extension->crystal_toolkit) (7.7.0)\n",
            "Requirement already satisfied: prometheus-client>=0.9 in /usr/local/lib/python3.10/site-packages (from jupyter-server<3,>=1.16.0->jupyterlab==3.*,>=3.0.0rc13->crystaltoolkit-extension->crystal_toolkit) (0.21.0)\n",
            "Requirement already satisfied: send2trash>=1.8.2 in /usr/local/lib/python3.10/site-packages (from jupyter-server<3,>=1.16.0->jupyterlab==3.*,>=3.0.0rc13->crystaltoolkit-extension->crystal_toolkit) (1.8.3)\n",
            "Requirement already satisfied: terminado>=0.8.3 in /usr/local/lib/python3.10/site-packages (from jupyter-server<3,>=1.16.0->jupyterlab==3.*,>=3.0.0rc13->crystaltoolkit-extension->crystal_toolkit) (0.18.1)\n",
            "Requirement already satisfied: traitlets>=5.6.0 in /usr/local/lib/python3.10/site-packages (from jupyter-server<3,>=1.16.0->jupyterlab==3.*,>=3.0.0rc13->crystaltoolkit-extension->crystal_toolkit) (5.14.3)\n",
            "Requirement already satisfied: websocket-client>=1.7 in /usr/local/lib/python3.10/site-packages (from jupyter-server<3,>=1.16.0->jupyterlab==3.*,>=3.0.0rc13->crystaltoolkit-extension->crystal_toolkit) (1.8.0)\n",
            "Requirement already satisfied: platformdirs>=2.5 in /usr/local/lib/python3.10/site-packages (from jupyter-core->jupyterlab==3.*,>=3.0.0rc13->crystaltoolkit-extension->crystal_toolkit) (4.1.0)\n",
            "Requirement already satisfied: jupyter-server-fileid<1,>=0.6.0 in /usr/local/lib/python3.10/site-packages (from jupyter-server-ydoc~=0.8.0->jupyterlab==3.*,>=3.0.0rc13->crystaltoolkit-extension->crystal_toolkit) (0.9.3)\n",
            "Requirement already satisfied: ypy-websocket<0.9.0,>=0.8.2 in /usr/local/lib/python3.10/site-packages (from jupyter-server-ydoc~=0.8.0->jupyterlab==3.*,>=3.0.0rc13->crystaltoolkit-extension->crystal_toolkit) (0.8.4)\n",
            "Requirement already satisfied: y-py<0.7.0,>=0.6.0 in /usr/local/lib/python3.10/site-packages (from jupyter-ydoc~=0.2.4->jupyterlab==3.*,>=3.0.0rc13->crystaltoolkit-extension->crystal_toolkit) (0.6.2)\n",
            "Requirement already satisfied: babel>=2.10 in /usr/local/lib/python3.10/site-packages (from jupyterlab-server~=2.19->jupyterlab==3.*,>=3.0.0rc13->crystaltoolkit-extension->crystal_toolkit) (2.16.0)\n",
            "Requirement already satisfied: json5>=0.9.0 in /usr/local/lib/python3.10/site-packages (from jupyterlab-server~=2.19->jupyterlab==3.*,>=3.0.0rc13->crystaltoolkit-extension->crystal_toolkit) (0.9.25)\n",
            "Requirement already satisfied: sentinels in /usr/local/lib/python3.10/site-packages (from mongomock>=3.10.0->maggma>=0.57.1->mp-api->crystal_toolkit) (1.0.0)\n",
            "Requirement already satisfied: ipython-genutils in /usr/local/lib/python3.10/site-packages (from notebook<7->jupyterlab==3.*,>=3.0.0rc13->crystaltoolkit-extension->crystal_toolkit) (0.2.0)\n",
            "Requirement already satisfied: ipykernel in /usr/local/lib/python3.10/site-packages (from notebook<7->jupyterlab==3.*,>=3.0.0rc13->crystaltoolkit-extension->crystal_toolkit) (6.29.5)\n",
            "Requirement already satisfied: notebook-shim>=0.2.3 in /usr/local/lib/python3.10/site-packages (from nbclassic->jupyterlab==3.*,>=3.0.0rc13->crystaltoolkit-extension->crystal_toolkit) (0.2.4)\n",
            "Requirement already satisfied: paramiko>=2.7.2 in /usr/local/lib/python3.10/site-packages (from sshtunnel>=0.1.5->maggma>=0.57.1->mp-api->crystal_toolkit) (3.5.0)\n",
            "Requirement already satisfied: decorator in /usr/local/lib/python3.10/site-packages (from ipython->jupyterlab==3.*,>=3.0.0rc13->crystaltoolkit-extension->crystal_toolkit) (5.1.1)\n",
            "Requirement already satisfied: jedi>=0.16 in /usr/local/lib/python3.10/site-packages (from ipython->jupyterlab==3.*,>=3.0.0rc13->crystaltoolkit-extension->crystal_toolkit) (0.19.1)\n",
            "Requirement already satisfied: matplotlib-inline in /usr/local/lib/python3.10/site-packages (from ipython->jupyterlab==3.*,>=3.0.0rc13->crystaltoolkit-extension->crystal_toolkit) (0.1.7)\n",
            "Requirement already satisfied: prompt-toolkit<3.1.0,>=3.0.41 in /usr/local/lib/python3.10/site-packages (from ipython->jupyterlab==3.*,>=3.0.0rc13->crystaltoolkit-extension->crystal_toolkit) (3.0.48)\n",
            "Requirement already satisfied: pygments>=2.4.0 in /usr/local/lib/python3.10/site-packages (from ipython->jupyterlab==3.*,>=3.0.0rc13->crystaltoolkit-extension->crystal_toolkit) (2.18.0)\n",
            "Requirement already satisfied: stack-data in /usr/local/lib/python3.10/site-packages (from ipython->jupyterlab==3.*,>=3.0.0rc13->crystaltoolkit-extension->crystal_toolkit) (0.6.3)\n",
            "Requirement already satisfied: exceptiongroup in /usr/local/lib/python3.10/site-packages (from ipython->jupyterlab==3.*,>=3.0.0rc13->crystaltoolkit-extension->crystal_toolkit) (1.2.2)\n",
            "Requirement already satisfied: pexpect>4.3 in /usr/local/lib/python3.10/site-packages (from ipython->jupyterlab==3.*,>=3.0.0rc13->crystaltoolkit-extension->crystal_toolkit) (4.9.0)\n",
            "Requirement already satisfied: sniffio>=1.1 in /usr/local/lib/python3.10/site-packages (from anyio>=3.1.0->jupyter-server<3,>=1.16.0->jupyterlab==3.*,>=3.0.0rc13->crystaltoolkit-extension->crystal_toolkit) (1.3.1)\n",
            "Requirement already satisfied: argon2-cffi-bindings in /usr/local/lib/python3.10/site-packages (from argon2-cffi>=21.1->jupyter-server<3,>=1.16.0->jupyterlab==3.*,>=3.0.0rc13->crystaltoolkit-extension->crystal_toolkit) (21.2.0)\n",
            "Requirement already satisfied: parso<0.9.0,>=0.8.3 in /usr/local/lib/python3.10/site-packages (from jedi>=0.16->ipython->jupyterlab==3.*,>=3.0.0rc13->crystaltoolkit-extension->crystal_toolkit) (0.8.4)\n",
            "Requirement already satisfied: entrypoints in /usr/local/lib/python3.10/site-packages (from jupyter-client>=7.4.4->jupyter-server<3,>=1.16.0->jupyterlab==3.*,>=3.0.0rc13->crystaltoolkit-extension->crystal_toolkit) (0.4)\n",
            "Requirement already satisfied: python-json-logger>=2.0.4 in /usr/local/lib/python3.10/site-packages (from jupyter-events>=0.9.0->jupyter-server<3,>=1.16.0->jupyterlab==3.*,>=3.0.0rc13->crystaltoolkit-extension->crystal_toolkit) (2.0.7)\n",
            "Requirement already satisfied: rfc3339-validator in /usr/local/lib/python3.10/site-packages (from jupyter-events>=0.9.0->jupyter-server<3,>=1.16.0->jupyterlab==3.*,>=3.0.0rc13->crystaltoolkit-extension->crystal_toolkit) (0.1.4)\n",
            "Requirement already satisfied: rfc3986-validator>=0.1.1 in /usr/local/lib/python3.10/site-packages (from jupyter-events>=0.9.0->jupyter-server<3,>=1.16.0->jupyterlab==3.*,>=3.0.0rc13->crystaltoolkit-extension->crystal_toolkit) (0.1.1)\n",
            "Requirement already satisfied: beautifulsoup4 in /usr/local/lib/python3.10/site-packages (from nbconvert>=6.4.4->jupyter-server<3,>=1.16.0->jupyterlab==3.*,>=3.0.0rc13->crystaltoolkit-extension->crystal_toolkit) (4.12.3)\n",
            "Requirement already satisfied: bleach!=5.0.0 in /usr/local/lib/python3.10/site-packages (from nbconvert>=6.4.4->jupyter-server<3,>=1.16.0->jupyterlab==3.*,>=3.0.0rc13->crystaltoolkit-extension->crystal_toolkit) (6.2.0)\n",
            "Requirement already satisfied: defusedxml in /usr/local/lib/python3.10/site-packages (from nbconvert>=6.4.4->jupyter-server<3,>=1.16.0->jupyterlab==3.*,>=3.0.0rc13->crystaltoolkit-extension->crystal_toolkit) (0.7.1)\n",
            "Requirement already satisfied: jupyterlab-pygments in /usr/local/lib/python3.10/site-packages (from nbconvert>=6.4.4->jupyter-server<3,>=1.16.0->jupyterlab==3.*,>=3.0.0rc13->crystaltoolkit-extension->crystal_toolkit) (0.3.0)\n",
            "Requirement already satisfied: mistune<4,>=2.0.3 in /usr/local/lib/python3.10/site-packages (from nbconvert>=6.4.4->jupyter-server<3,>=1.16.0->jupyterlab==3.*,>=3.0.0rc13->crystaltoolkit-extension->crystal_toolkit) (3.0.2)\n",
            "Requirement already satisfied: nbclient>=0.5.0 in /usr/local/lib/python3.10/site-packages (from nbconvert>=6.4.4->jupyter-server<3,>=1.16.0->jupyterlab==3.*,>=3.0.0rc13->crystaltoolkit-extension->crystal_toolkit) (0.10.0)\n",
            "Requirement already satisfied: pandocfilters>=1.4.1 in /usr/local/lib/python3.10/site-packages (from nbconvert>=6.4.4->jupyter-server<3,>=1.16.0->jupyterlab==3.*,>=3.0.0rc13->crystaltoolkit-extension->crystal_toolkit) (1.5.1)\n",
            "Requirement already satisfied: tinycss2 in /usr/local/lib/python3.10/site-packages (from nbconvert>=6.4.4->jupyter-server<3,>=1.16.0->jupyterlab==3.*,>=3.0.0rc13->crystaltoolkit-extension->crystal_toolkit) (1.4.0)\n",
            "Requirement already satisfied: fastjsonschema>=2.15 in /usr/local/lib/python3.10/site-packages (from nbformat>=5.3.0->jupyter-server<3,>=1.16.0->jupyterlab==3.*,>=3.0.0rc13->crystaltoolkit-extension->crystal_toolkit) (2.20.0)\n",
            "Requirement already satisfied: bcrypt>=3.2 in /usr/local/lib/python3.10/site-packages (from paramiko>=2.7.2->sshtunnel>=0.1.5->maggma>=0.57.1->mp-api->crystal_toolkit) (4.2.0)\n",
            "Requirement already satisfied: cryptography>=3.3 in /usr/local/lib/python3.10/site-packages (from paramiko>=2.7.2->sshtunnel>=0.1.5->maggma>=0.57.1->mp-api->crystal_toolkit) (43.0.3)\n",
            "Requirement already satisfied: pynacl>=1.5 in /usr/local/lib/python3.10/site-packages (from paramiko>=2.7.2->sshtunnel>=0.1.5->maggma>=0.57.1->mp-api->crystal_toolkit) (1.5.0)\n",
            "Requirement already satisfied: ptyprocess>=0.5 in /usr/local/lib/python3.10/site-packages (from pexpect>4.3->ipython->jupyterlab==3.*,>=3.0.0rc13->crystaltoolkit-extension->crystal_toolkit) (0.7.0)\n",
            "Requirement already satisfied: wcwidth in /usr/local/lib/python3.10/site-packages (from prompt-toolkit<3.1.0,>=3.0.41->ipython->jupyterlab==3.*,>=3.0.0rc13->crystaltoolkit-extension->crystal_toolkit) (0.2.13)\n",
            "Requirement already satisfied: aiofiles<23,>=22.1.0 in /usr/local/lib/python3.10/site-packages (from ypy-websocket<0.9.0,>=0.8.2->jupyter-server-ydoc~=0.8.0->jupyterlab==3.*,>=3.0.0rc13->crystaltoolkit-extension->crystal_toolkit) (22.1.0)\n",
            "Requirement already satisfied: aiosqlite<1,>=0.17.0 in /usr/local/lib/python3.10/site-packages (from ypy-websocket<0.9.0,>=0.8.2->jupyter-server-ydoc~=0.8.0->jupyterlab==3.*,>=3.0.0rc13->crystaltoolkit-extension->crystal_toolkit) (0.20.0)\n",
            "Requirement already satisfied: comm>=0.1.1 in /usr/local/lib/python3.10/site-packages (from ipykernel->notebook<7->jupyterlab==3.*,>=3.0.0rc13->crystaltoolkit-extension->crystal_toolkit) (0.2.2)\n",
            "Requirement already satisfied: debugpy>=1.6.5 in /usr/local/lib/python3.10/site-packages (from ipykernel->notebook<7->jupyterlab==3.*,>=3.0.0rc13->crystaltoolkit-extension->crystal_toolkit) (1.8.8)\n",
            "Requirement already satisfied: psutil in /usr/local/lib/python3.10/site-packages (from ipykernel->notebook<7->jupyterlab==3.*,>=3.0.0rc13->crystaltoolkit-extension->crystal_toolkit) (6.1.0)\n",
            "Requirement already satisfied: executing>=1.2.0 in /usr/local/lib/python3.10/site-packages (from stack-data->ipython->jupyterlab==3.*,>=3.0.0rc13->crystaltoolkit-extension->crystal_toolkit) (2.1.0)\n",
            "Requirement already satisfied: asttokens>=2.1.0 in /usr/local/lib/python3.10/site-packages (from stack-data->ipython->jupyterlab==3.*,>=3.0.0rc13->crystaltoolkit-extension->crystal_toolkit) (2.4.1)\n",
            "Requirement already satisfied: pure-eval in /usr/local/lib/python3.10/site-packages (from stack-data->ipython->jupyterlab==3.*,>=3.0.0rc13->crystaltoolkit-extension->crystal_toolkit) (0.2.3)\n",
            "Requirement already satisfied: webencodings in /usr/local/lib/python3.10/site-packages (from bleach!=5.0.0->nbconvert>=6.4.4->jupyter-server<3,>=1.16.0->jupyterlab==3.*,>=3.0.0rc13->crystaltoolkit-extension->crystal_toolkit) (0.5.1)\n",
            "Requirement already satisfied: cffi>=1.12 in /usr/local/lib/python3.10/site-packages (from cryptography>=3.3->paramiko>=2.7.2->sshtunnel>=0.1.5->maggma>=0.57.1->mp-api->crystal_toolkit) (1.16.0)\n",
            "Requirement already satisfied: fqdn in /usr/local/lib/python3.10/site-packages (from jsonschema[format-nongpl]>=4.18.0->jupyter-events>=0.9.0->jupyter-server<3,>=1.16.0->jupyterlab==3.*,>=3.0.0rc13->crystaltoolkit-extension->crystal_toolkit) (1.5.1)\n",
            "Requirement already satisfied: isoduration in /usr/local/lib/python3.10/site-packages (from jsonschema[format-nongpl]>=4.18.0->jupyter-events>=0.9.0->jupyter-server<3,>=1.16.0->jupyterlab==3.*,>=3.0.0rc13->crystaltoolkit-extension->crystal_toolkit) (20.11.0)\n",
            "Requirement already satisfied: jsonpointer>1.13 in /usr/local/lib/python3.10/site-packages (from jsonschema[format-nongpl]>=4.18.0->jupyter-events>=0.9.0->jupyter-server<3,>=1.16.0->jupyterlab==3.*,>=3.0.0rc13->crystaltoolkit-extension->crystal_toolkit) (2.4)\n",
            "Requirement already satisfied: uri-template in /usr/local/lib/python3.10/site-packages (from jsonschema[format-nongpl]>=4.18.0->jupyter-events>=0.9.0->jupyter-server<3,>=1.16.0->jupyterlab==3.*,>=3.0.0rc13->crystaltoolkit-extension->crystal_toolkit) (1.3.0)\n",
            "Requirement already satisfied: soupsieve>1.2 in /usr/local/lib/python3.10/site-packages (from beautifulsoup4->nbconvert>=6.4.4->jupyter-server<3,>=1.16.0->jupyterlab==3.*,>=3.0.0rc13->crystaltoolkit-extension->crystal_toolkit) (2.6)\n",
            "Requirement already satisfied: pycparser in /usr/local/lib/python3.10/site-packages (from cffi>=1.12->cryptography>=3.3->paramiko>=2.7.2->sshtunnel>=0.1.5->maggma>=0.57.1->mp-api->crystal_toolkit) (2.21)\n",
            "Requirement already satisfied: arrow>=0.15.0 in /usr/local/lib/python3.10/site-packages (from isoduration->jsonschema[format-nongpl]>=4.18.0->jupyter-events>=0.9.0->jupyter-server<3,>=1.16.0->jupyterlab==3.*,>=3.0.0rc13->crystaltoolkit-extension->crystal_toolkit) (1.3.0)\n",
            "Requirement already satisfied: types-python-dateutil>=2.8.10 in /usr/local/lib/python3.10/site-packages (from arrow>=0.15.0->isoduration->jsonschema[format-nongpl]>=4.18.0->jupyter-events>=0.9.0->jupyter-server<3,>=1.16.0->jupyterlab==3.*,>=3.0.0rc13->crystaltoolkit-extension->crystal_toolkit) (2.9.0.20241003)\n"
          ]
        }
      ]
    },
    {
      "cell_type": "code",
      "source": [
        "import crystal_toolkit  # for visualizing structures (install using ``pip install crystal-toolkit``)\n",
        "import pymatgen  #"
      ],
      "metadata": {
        "id": "ze_wZt52AFsH"
      },
      "execution_count": 25,
      "outputs": []
    },
    {
      "cell_type": "code",
      "source": [
        "%pip install -q condacolab\n",
        "import condacolab\n",
        "condacolab.install()"
      ],
      "metadata": {
        "colab": {
          "base_uri": "https://localhost:8080/"
        },
        "id": "5IKghKo-_0-A",
        "outputId": "038b2070-5605-4512-94f4-53f70c7650ca"
      },
      "execution_count": 23,
      "outputs": [
        {
          "output_type": "stream",
          "name": "stdout",
          "text": [
            "✨🍰✨ Everything looks OK!\n"
          ]
        }
      ]
    },
    {
      "cell_type": "code",
      "execution_count": 26,
      "metadata": {
        "colab": {
          "base_uri": "https://localhost:8080/"
        },
        "id": "DcGEAdCT_vgy",
        "outputId": "bfc6d3fa-83f2-443c-d856-b709dcc2564e"
      },
      "outputs": [
        {
          "output_type": "stream",
          "name": "stdout",
          "text": [
            "Full Formula (Cu2 Au2)\n",
            "Reduced Formula: CuAu\n",
            "abc   :   3.677000   3.677000   3.677000\n",
            "angles:  90.000000  90.000000  90.000000\n",
            "pbc   :       True       True       True\n",
            "Sites (4)\n",
            "  #  SP                    a    b    c\n",
            "---  ------------------  ---  ---  ---\n",
            "  0  Cu0+:0.5, Au0+:0.5  0    0    0\n",
            "  1  Cu0+:0.5, Au0+:0.5  0.5  0.5  0\n",
            "  2  Cu0+:0.5, Au0+:0.5  0.5  0    0.5\n",
            "  3  Cu0+:0.5, Au0+:0.5  0    0.5  0.5\n"
          ]
        }
      ],
      "source": [
        "# Let us start by creating a disordered CuAu fcc structure.\n",
        "from pymatgen.core import Lattice, Structure\n",
        "\n",
        "specie = {\"Cu0+\": 0.5, \"Au0+\": 0.5}\n",
        "cuau = Structure.from_spacegroup(\"Fm-3m\", Lattice.cubic(3.677), [specie], [[0, 0, 0]])\n",
        "print(cuau)"
      ]
    },
    {
      "cell_type": "code",
      "source": [
        "!conda install -c conda-forge -y -c conda-forge crystaltoolkit"
      ],
      "metadata": {
        "collapsed": true,
        "id": "DbViqmglAr-f",
        "outputId": "5ef4e35f-d96b-4014-8b85-17fcefd4a200",
        "colab": {
          "base_uri": "https://localhost:8080/"
        }
      },
      "execution_count": 27,
      "outputs": [
        {
          "output_type": "stream",
          "name": "stdout",
          "text": [
            "Channels:\n",
            " - conda-forge\n",
            "Platform: linux-64\n",
            "Collecting package metadata (repodata.json): - \b\b\\ \b\b| \b\b/ \b\b- \b\b\\ \b\b| \b\b/ \b\b- \b\b\\ \b\b| \b\b/ \b\b- \b\b\\ \b\b| \b\b/ \b\b- \b\b\\ \b\b| \b\b/ \b\b- \b\b\\ \b\b| \b\b/ \b\b- \b\b\\ \b\b| \b\b/ \b\b- \b\b\\ \b\b| \b\b/ \b\b- \b\b\\ \b\b| \b\b/ \b\b- \b\b\\ \b\b| \b\b/ \b\b- \b\b\\ \b\b| \b\b/ \b\b- \b\b\\ \b\b| \b\b/ \b\b- \b\b\\ \b\b| \b\b/ \b\b- \b\b\\ \b\b| \b\b/ \b\b- \b\b\\ \b\b| \b\b/ \b\b- \b\b\\ \b\b| \b\b/ \b\b- \b\b\\ \b\b| \b\b/ \b\b- \b\b\\ \b\b| \b\b/ \b\b- \b\b\\ \b\b| \b\b/ \b\b- \b\b\\ \b\b| \b\b/ \b\b- \b\b\\ \b\b| \b\b/ \b\b- \b\b\\ \b\b| \b\b/ \b\b- \b\b\\ \b\b| \b\b/ \b\b- \b\b\\ \b\b| \b\b/ \b\b- \b\b\\ \b\b| \b\b/ \b\b- \b\b\\ \b\b| \b\b/ \b\b- \b\b\\ \b\b| \b\b/ \b\b- \b\b\\ \b\b| \b\b/ \b\b- \b\b\\ \b\b| \b\b/ \b\b- \b\b\\ \b\b| \b\b/ \b\b- \b\b\\ \b\b| \b\b/ \b\b- \b\b\\ \b\b| \b\b/ \b\b- \b\b\\ \b\b| \b\b/ \b\b- \b\b\\ \b\b| \b\b/ \b\b- \b\b\\ \b\b| \b\b/ \b\b- \b\b\\ \b\b| \b\b/ \b\b- \b\b\\ \b\b| \b\b/ \b\b- \b\b\\ \b\b| \b\b/ \b\b- \b\b\\ \b\b| \b\b/ \b\b- \b\b\\ \b\b| \b\b/ \b\b- \b\b\\ \b\b| \b\b/ \b\b- \b\b\\ \b\b| \b\b/ \b\b- \b\b\\ \b\b| \b\b/ \b\b- \b\b\\ \b\b| \b\b/ \b\b- \b\b\\ \b\b| \b\b/ \b\b- \b\b\\ \b\b| \b\b/ \b\b- \b\b\\ \b\b| \b\b/ \b\b- \b\b\\ \b\b| \b\b/ \b\b- \b\b\\ \b\b| \b\b/ \b\b- \b\b\\ \b\b| \b\b/ \b\b- \b\b\\ \b\b| \b\b/ \b\b- \b\b\\ \b\b| \b\b/ \b\b- \b\b\\ \b\b| \b\b/ \b\b- \b\b\\ \b\b| \b\b/ \b\b- \b\b\\ \b\b| \b\b/ \b\b- \b\b\\ \b\b| \b\b/ \b\b- \b\b\\ \b\b| \b\b/ \b\b- \b\b\\ \b\b| \b\b/ \b\b- \b\b\\ \b\b| \b\b/ \b\b- \b\b\\ \b\b| \b\b/ \b\b- \b\b\\ \b\b| \b\b/ \b\b- \b\b\\ \b\b| \b\b/ \b\b- \b\b\\ \b\b| \b\b/ \b\b- \b\b\\ \b\b| \b\b/ \b\b- \b\b\\ \b\b| \b\b/ \b\b- \b\b\\ \b\b| \b\b/ \b\b- \b\b\\ \b\b| \b\b/ \b\b- \b\b\\ \b\b| \b\b/ \b\b- \b\b\\ \b\b| \b\bdone\n",
            "Solving environment: - \b\b\\ \b\b| \b\b/ \b\b- \b\b\\ \b\b| \b\bfailed\n",
            "\n",
            "PackagesNotFoundError: The following packages are not available from current channels:\n",
            "\n",
            "  - crystaltoolkit\n",
            "\n",
            "Current channels:\n",
            "\n",
            "  - https://conda.anaconda.org/conda-forge\n",
            "\n",
            "To search for alternate channels that may provide the conda package you're\n",
            "looking for, navigate to\n",
            "\n",
            "    https://anaconda.org\n",
            "\n",
            "and use the search bar at the top of the page.\n",
            "\n",
            "\n"
          ]
        }
      ]
    },
    {
      "cell_type": "code",
      "source": [
        "!conda install -c conda-forge enumlib"
      ],
      "metadata": {
        "id": "ma41MWYtA1Jx",
        "outputId": "d22069ff-9a23-44d9-fa3d-0235cfe634f6",
        "colab": {
          "base_uri": "https://localhost:8080/"
        }
      },
      "execution_count": 28,
      "outputs": [
        {
          "output_type": "stream",
          "name": "stdout",
          "text": [
            "Channels:\n",
            " - conda-forge\n",
            "Platform: linux-64\n",
            "Collecting package metadata (repodata.json): - \b\b\\ \b\b| \b\b/ \b\b- \b\b\\ \b\b| \b\b/ \b\b- \b\bdone\n",
            "Solving environment: | \b\b/ \b\b- \b\b\\ \b\b| \b\bdone\n",
            "\n",
            "\n",
            "==> WARNING: A newer version of conda exists. <==\n",
            "    current version: 23.11.0\n",
            "    latest version: 24.9.2\n",
            "\n",
            "Please update conda by running\n",
            "\n",
            "    $ conda update -n base -c conda-forge conda\n",
            "\n",
            "\n",
            "\n",
            "# All requested packages already installed.\n",
            "\n"
          ]
        }
      ]
    },
    {
      "cell_type": "markdown",
      "metadata": {
        "id": "8-dtGs9n_vg0"
      },
      "source": [
        "Note that each site is now 50% occupied by Cu and Au. Because the ordering algorithms uses an Ewald summation to rank the structures, you need to explicitly specify the oxidation state for each species, even if it is 0. Let us now perform ordering of these sites using two methods."
      ]
    },
    {
      "cell_type": "code",
      "source": [],
      "metadata": {
        "id": "TpRv26tLA0K7"
      },
      "execution_count": null,
      "outputs": []
    },
    {
      "cell_type": "markdown",
      "metadata": {
        "id": "QZ4vVUbS_vg1"
      },
      "source": [
        "## Method 1 - Using the OrderDisorderedStructureTransformation\n",
        "\n",
        "The first method is to use the OrderDisorderedStructureTransformation."
      ]
    },
    {
      "cell_type": "code",
      "execution_count": null,
      "metadata": {
        "id": "iN4xSpo-_vg2",
        "outputId": "22b53b63-dae5-46aa-9b83-ba299261fe70"
      },
      "outputs": [
        {
          "name": "stdout",
          "output_type": "stream",
          "text": [
            "6\n",
            "{'energy': 0.0, 'energy_above_minimum': 0.0, 'structure': Structure Summary\n",
            "Lattice\n",
            "    abc : 3.677 3.677 3.677\n",
            " angles : 90.0 90.0 90.0\n",
            " volume : 49.714249733\n",
            "      A : 3.677 0.0 0.0\n",
            "      B : 0.0 3.677 0.0\n",
            "      C : 0.0 0.0 3.677\n",
            "PeriodicSite: Cu0+ (1.8385, 0.0000, 1.8385) [0.5000, 0.0000, 0.5000]\n",
            "PeriodicSite: Cu0+ (1.8385, 1.8385, 0.0000) [0.5000, 0.5000, 0.0000]\n",
            "PeriodicSite: Au0+ (0.0000, 0.0000, 0.0000) [0.0000, 0.0000, 0.0000]\n",
            "PeriodicSite: Au0+ (0.0000, 1.8385, 1.8385) [0.0000, 0.5000, 0.5000]}\n"
          ]
        }
      ],
      "source": [
        "from pymatgen.transformations.standard_transformations import (\n",
        "    OrderDisorderedStructureTransformation,\n",
        ")\n",
        "\n",
        "trans = OrderDisorderedStructureTransformation()\n",
        "\n",
        "ss = trans.apply_transformation(cuau, return_ranked_list=100)\n",
        "\n",
        "print(len(ss))\n",
        "\n",
        "print(ss[0])"
      ]
    },
    {
      "cell_type": "markdown",
      "metadata": {
        "id": "bcwww-05_vg3"
      },
      "source": [
        "Note that the OrderDisorderedTransformation (with a sufficiently large return_ranked_list parameter) returns all orderings, including duplicates without accounting for symmetry. A computed ewald energy is returned together with each structure. To eliminate duplicates, the best way is to use StructureMatcher's group_structures method, as demonstrated below."
      ]
    },
    {
      "cell_type": "code",
      "execution_count": null,
      "metadata": {
        "id": "DeiY83_2_vg4",
        "outputId": "c8672917-9c99-4618-b78a-c384821b5a4b"
      },
      "outputs": [
        {
          "name": "stdout",
          "output_type": "stream",
          "text": [
            "1\n",
            "Full Formula (Cu2 Au2)\n",
            "Reduced Formula: CuAu\n",
            "abc   :   3.677000   3.677000   3.677000\n",
            "angles:  90.000000  90.000000  90.000000\n",
            "Sites (4)\n",
            "  #  SP      a    b    c\n",
            "---  ----  ---  ---  ---\n",
            "  0  Cu0+  0.5  0    0.5\n",
            "  1  Cu0+  0.5  0.5  0\n",
            "  2  Au0+  0    0    0\n",
            "  3  Au0+  0    0.5  0.5\n"
          ]
        }
      ],
      "source": [
        "from pymatgen.analysis.structure_matcher import StructureMatcher\n",
        "\n",
        "matcher = StructureMatcher()\n",
        "groups = matcher.group_structures([d[\"structure\"] for d in ss])\n",
        "print(len(groups))\n",
        "print(groups[0][0])"
      ]
    },
    {
      "cell_type": "markdown",
      "metadata": {
        "id": "ACkjFkUK_vg6"
      },
      "source": [
        "## Method 2 - Using the EnumerateStructureTransformation\n",
        "\n",
        "If you have enumlib installed, you can use the EnumerateStructureTransformation. This automatically takes care of symmetrically equivalent orderings and can enumerate supercells, but is much more prone to parameter sensitivity and cannot handle very large structures. The example below shows an enumerate of CuAu up to cell sizes of 4."
      ]
    },
    {
      "cell_type": "code",
      "execution_count": 29,
      "metadata": {
        "id": "mJOCLIeM_vg6"
      },
      "outputs": [],
      "source": [
        "from pymatgen.core import Structure, Lattice\n",
        "from pymatgen.transformations.advanced_transformations import (\n",
        "    EnumerateStructureTransformation,\n",
        ")\n",
        "\n",
        "specie = {\"Cu\": 0.5, \"Au\": 0.5}\n",
        "cuau = Structure.from_spacegroup(\"Fm-3m\", Lattice.cubic(3.677), [specie], [[0, 0, 0]])\n",
        "\n",
        "trans = EnumerateStructureTransformation(max_cell_size=3)\n",
        "ss = trans.apply_transformation(cuau, return_ranked_list=1000)"
      ]
    },
    {
      "cell_type": "code",
      "execution_count": 30,
      "metadata": {
        "colab": {
          "base_uri": "https://localhost:8080/"
        },
        "id": "oSwRi0wB_vg7",
        "outputId": "394e3358-5c09-4a21-aa7f-04d085fa8186"
      },
      "outputs": [
        {
          "output_type": "stream",
          "name": "stdout",
          "text": [
            "94\n",
            "cell sizes are [4, 8, 8, 8, 8, 8, 8, 8, 8, 8, 8, 8, 8, 8, 12, 12, 12, 12, 12, 12, 12, 12, 12, 12, 12, 12, 12, 12, 12, 12, 12, 12, 12, 12, 12, 12, 12, 12, 12, 12, 12, 12, 12, 12, 12, 12, 12, 12, 12, 12, 12, 12, 12, 12, 12, 12, 12, 12, 12, 12, 12, 12, 12, 12, 12, 12, 12, 12, 12, 12, 12, 12, 12, 12, 12, 12, 12, 12, 12, 12, 12, 12, 12, 12, 12, 12, 12, 12, 12, 12, 12, 12, 12, 12]\n"
          ]
        }
      ],
      "source": [
        "print(len(ss))\n",
        "print(\"cell sizes are %s\" % ([len(d[\"structure\"]) for d in ss]))"
      ]
    },
    {
      "cell_type": "code",
      "execution_count": null,
      "metadata": {
        "id": "tBkeSlMH_vg8"
      },
      "outputs": [],
      "source": [
        "# The following two lines write all the structures to CIF files with names CuAu_0.cif, CuAu_1.cif, ...\n",
        "for i, d in enumerate(ss):\n",
        "    d[\"structure\"].to(filename=\"CuAu_%d.cif\" % i)"
      ]
    },
    {
      "cell_type": "markdown",
      "metadata": {
        "id": "45C1y9c0_vg8"
      },
      "source": [
        "Note that structures with cell sizes ranging from 1-3x the unit cell size is generated."
      ]
    },
    {
      "cell_type": "markdown",
      "metadata": {
        "id": "Phl1lXVO_vg9"
      },
      "source": [
        "## Conclusion\n",
        "\n",
        "This notebook illustrates two basic ordering/enumeration approaches. In general, OrderDisorderedTransformation works better for large cells and is useful if you need just any quick plausible ordering. EnumerateStructureTransformation is more rigorous, but is prone to sensitivity errors and may require fiddling with various parameters."
      ]
    }
  ],
  "metadata": {
    "kernelspec": {
      "display_name": "Python 3 (ipykernel)",
      "language": "python",
      "name": "python3"
    },
    "language_info": {
      "codemirror_mode": {
        "name": "ipython",
        "version": 3
      },
      "file_extension": ".py",
      "mimetype": "text/x-python",
      "name": "python",
      "nbconvert_exporter": "python",
      "pygments_lexer": "ipython3",
      "version": "3.11.8"
    },
    "colab": {
      "provenance": []
    }
  },
  "nbformat": 4,
  "nbformat_minor": 0
}